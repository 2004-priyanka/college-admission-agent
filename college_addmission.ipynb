{
  "nbformat": 4,
  "nbformat_minor": 0,
  "metadata": {
    "colab": {
      "provenance": []
    },
    "kernelspec": {
      "name": "python3",
      "display_name": "Python 3"
    },
    "language_info": {
      "name": "python"
    }
  },
  "cells": [
    {
      "cell_type": "code",
      "execution_count": 1,
      "metadata": {
        "colab": {
          "base_uri": "https://localhost:8080/"
        },
        "id": "NK2nnyGmabS4",
        "outputId": "0f5f352a-afb7-43cc-a3f1-96c5f5b421b4"
      },
      "outputs": [
        {
          "output_type": "stream",
          "name": "stdout",
          "text": [
            "Collecting replicate\n",
            "  Downloading replicate-1.0.7-py3-none-any.whl.metadata (29 kB)\n",
            "Collecting duckduckgo-search\n",
            "  Downloading duckduckgo_search-8.1.1-py3-none-any.whl.metadata (16 kB)\n",
            "Requirement already satisfied: httpx<1,>=0.21.0 in /usr/local/lib/python3.11/dist-packages (from replicate) (0.28.1)\n",
            "Requirement already satisfied: packaging in /usr/local/lib/python3.11/dist-packages (from replicate) (25.0)\n",
            "Requirement already satisfied: pydantic>1.10.7 in /usr/local/lib/python3.11/dist-packages (from replicate) (2.11.7)\n",
            "Requirement already satisfied: typing_extensions>=4.5.0 in /usr/local/lib/python3.11/dist-packages (from replicate) (4.14.1)\n",
            "Requirement already satisfied: click>=8.1.8 in /usr/local/lib/python3.11/dist-packages (from duckduckgo-search) (8.2.1)\n",
            "Collecting primp>=0.15.0 (from duckduckgo-search)\n",
            "  Downloading primp-0.15.0-cp38-abi3-manylinux_2_17_x86_64.manylinux2014_x86_64.whl.metadata (13 kB)\n",
            "Requirement already satisfied: lxml>=5.3.0 in /usr/local/lib/python3.11/dist-packages (from duckduckgo-search) (5.4.0)\n",
            "Requirement already satisfied: anyio in /usr/local/lib/python3.11/dist-packages (from httpx<1,>=0.21.0->replicate) (4.10.0)\n",
            "Requirement already satisfied: certifi in /usr/local/lib/python3.11/dist-packages (from httpx<1,>=0.21.0->replicate) (2025.8.3)\n",
            "Requirement already satisfied: httpcore==1.* in /usr/local/lib/python3.11/dist-packages (from httpx<1,>=0.21.0->replicate) (1.0.9)\n",
            "Requirement already satisfied: idna in /usr/local/lib/python3.11/dist-packages (from httpx<1,>=0.21.0->replicate) (3.10)\n",
            "Requirement already satisfied: h11>=0.16 in /usr/local/lib/python3.11/dist-packages (from httpcore==1.*->httpx<1,>=0.21.0->replicate) (0.16.0)\n",
            "Requirement already satisfied: annotated-types>=0.6.0 in /usr/local/lib/python3.11/dist-packages (from pydantic>1.10.7->replicate) (0.7.0)\n",
            "Requirement already satisfied: pydantic-core==2.33.2 in /usr/local/lib/python3.11/dist-packages (from pydantic>1.10.7->replicate) (2.33.2)\n",
            "Requirement already satisfied: typing-inspection>=0.4.0 in /usr/local/lib/python3.11/dist-packages (from pydantic>1.10.7->replicate) (0.4.1)\n",
            "Requirement already satisfied: sniffio>=1.1 in /usr/local/lib/python3.11/dist-packages (from anyio->httpx<1,>=0.21.0->replicate) (1.3.1)\n",
            "Downloading replicate-1.0.7-py3-none-any.whl (48 kB)\n",
            "\u001b[2K   \u001b[90m━━━━━━━━━━━━━━━━━━━━━━━━━━━━━━━━━━━━━━━━\u001b[0m \u001b[32m48.6/48.6 kB\u001b[0m \u001b[31m3.5 MB/s\u001b[0m eta \u001b[36m0:00:00\u001b[0m\n",
            "\u001b[?25hDownloading duckduckgo_search-8.1.1-py3-none-any.whl (18 kB)\n",
            "Downloading primp-0.15.0-cp38-abi3-manylinux_2_17_x86_64.manylinux2014_x86_64.whl (3.3 MB)\n",
            "\u001b[2K   \u001b[90m━━━━━━━━━━━━━━━━━━━━━━━━━━━━━━━━━━━━━━━━\u001b[0m \u001b[32m3.3/3.3 MB\u001b[0m \u001b[31m77.6 MB/s\u001b[0m eta \u001b[36m0:00:00\u001b[0m\n",
            "\u001b[?25hInstalling collected packages: primp, duckduckgo-search, replicate\n",
            "Successfully installed duckduckgo-search-8.1.1 primp-0.15.0 replicate-1.0.7\n"
          ]
        }
      ],
      "source": [
        "!pip install replicate duckduckgo-search"
      ]
    },
    {
      "cell_type": "code",
      "source": [
        "import replicate\n",
        "from duckduckgo_search import DDGS\n",
        "\n",
        "# 🔐 IBM Granite on Replicate\n",
        "REPLICATE_API_TOKEN = \"r8_0t7oSmbYTPDemQOdPHOrvP6Aq4OrhDr4F0fGW\"\n",
        "client = replicate.Client(api_token=REPLICATE_API_TOKEN)\n",
        "\n",
        "# 🔎 Optional: DuckDuckGo search fallback\n",
        "def search_duckduckgo(query):\n",
        "    with DDGS() as ddgs:\n",
        "        results = ddgs.text(query, max_results=3)\n",
        "        return \"\\n\".join([f\"- {r['title']}: {r['href']}\" for r in results])\n",
        "\n",
        "# 🧠 LLM query function with system prompt injection\n",
        "def query_replicate(prompt, model=\"ibm-granite/granite-3.3-8b-instruct\"):\n",
        "    output = client.run(model, input={\"prompt\": prompt, \"max_new_tokens\": 300})\n",
        "    return \"\".join(output)\n",
        "\n",
        "# 🎓 Agent 1: Admission Agent\n",
        "def admission_agent(prompt):\n",
        "    system_prompt = (\n",
        "        \"You are an expert college admission advisor. \"\n",
        "        \"Provide detailed information on admission processes, eligibility, deadlines, and application tips.\"\n",
        "    )\n",
        "    return query_replicate(f\"{system_prompt}\\n\\nUser: {prompt}\")\n",
        "\n",
        "# 📚 Agent 2: Course and Program Advisor\n",
        "def course_agent(prompt):\n",
        "    system_prompt = (\n",
        "        \"You are a knowledgeable academic counselor. \"\n",
        "        \"Help users understand different courses, degree programs, majors, and specializations offered by colleges.\"\n",
        "    )\n",
        "    return query_replicate(f\"{system_prompt}\\n\\nUser: {prompt}\")\n",
        "\n",
        "# 💰 Agent 3: Scholarship and Financial Aid Advisor\n",
        "def scholarship_agent(prompt):\n",
        "    system_prompt = (\n",
        "        \"You are a financial aid specialist. \"\n",
        "        \"Provide guidance about scholarships, grants, bursaries, eligibility, and application procedures.\"\n",
        "    )\n",
        "    return query_replicate(f\"{system_prompt}\\n\\nUser: {prompt}\")\n",
        "\n",
        "# 🏫 Agent 4: Campus Life Advisor\n",
        "def campus_life_agent(prompt):\n",
        "    system_prompt = (\n",
        "        \"You are a college campus life expert. \"\n",
        "        \"Inform users about campus facilities, hostels, clubs, sports, and extracurricular activities.\"\n",
        "    )\n",
        "    return query_replicate(f\"{system_prompt}\\n\\nUser: {prompt}\")\n"
      ],
      "metadata": {
        "id": "zGGb1OJPafIp"
      },
      "execution_count": 3,
      "outputs": []
    },
    {
      "cell_type": "code",
      "source": [
        "def college_admission_router(user_prompt):\n",
        "    admission_keywords = [\"admission\", \"apply\", \"application\", \"deadline\", \"eligibility\", \"requirements\"]\n",
        "    course_keywords = [\"course\", \"program\", \"degree\", \"major\", \"subject\", \"specialization\"]\n",
        "    scholarship_keywords = [\"scholarship\", \"financial aid\", \"funding\", \"grant\", \"bursary\", \"assistantship\"]\n",
        "    campus_life_keywords = [\"campus\", \"hostel\", \"facilities\", \"clubs\", \"events\", \"sports\", \"library\"]\n",
        "\n",
        "    prompt_lower = user_prompt.lower()\n",
        "\n",
        "    if any(word in prompt_lower for word in admission_keywords):\n",
        "        return admission_agent(user_prompt)\n",
        "    elif any(word in prompt_lower for word in course_keywords):\n",
        "        return course_agent(user_prompt)\n",
        "    elif any(word in prompt_lower for word in scholarship_keywords):\n",
        "        return scholarship_agent(user_prompt)\n",
        "    elif any(word in prompt_lower for word in campus_life_keywords):\n",
        "        return campus_life_agent(user_prompt)\n",
        "    else:\n",
        "        # default fallback agent\n",
        "        return \"🤖 Could you please clarify your question? Are you asking about admissions, courses, scholarships, or campus life?\"\n"
      ],
      "metadata": {
        "id": "oadxdsxHasA7"
      },
      "execution_count": 4,
      "outputs": []
    },
    {
      "cell_type": "code",
      "source": [
        "import gradio as gr\n",
        "\n",
        "def respond_fn(user_message, history):\n",
        "    bot_message = college_admission_router(user_message)\n",
        "    history = history or []\n",
        "    history.append((user_message, bot_message))\n",
        "    return history, \"\"\n",
        "\n",
        "with gr.Blocks() as demo:\n",
        "    gr.Markdown(\"## 🎓 College Admission Agent AI Chatbot\")\n",
        "    chatbot = gr.Chatbot()\n",
        "    user_input = gr.Textbox(placeholder=\"Type your question here...\", label=\"Your Question\")\n",
        "    submit_btn = gr.Button(\"Send\")\n",
        "\n",
        "    submit_btn.click(respond_fn, inputs=[user_input, chatbot], outputs=[chatbot, user_input])\n",
        "    user_input.submit(respond_fn, inputs=[user_input, chatbot], outputs=[chatbot, user_input])\n",
        "\n",
        "demo.launch()\n"
      ],
      "metadata": {
        "colab": {
          "base_uri": "https://localhost:8080/",
          "height": 680
        },
        "id": "vE6QcTf2a0mY",
        "outputId": "b031df98-3f71-464b-edae-9505d36e08ac"
      },
      "execution_count": 7,
      "outputs": [
        {
          "output_type": "stream",
          "name": "stderr",
          "text": [
            "/tmp/ipython-input-3057128275.py:11: UserWarning: You have not specified a value for the `type` parameter. Defaulting to the 'tuples' format for chatbot messages, but this is deprecated and will be removed in a future version of Gradio. Please set type='messages' instead, which uses openai-style dictionaries with 'role' and 'content' keys.\n",
            "  chatbot = gr.Chatbot()\n"
          ]
        },
        {
          "output_type": "stream",
          "name": "stdout",
          "text": [
            "It looks like you are running Gradio on a hosted Jupyter notebook, which requires `share=True`. Automatically setting `share=True` (you can turn this off by setting `share=False` in `launch()` explicitly).\n",
            "\n",
            "Colab notebook detected. To show errors in colab notebook, set debug=True in launch()\n",
            "* Running on public URL: https://3ece80d0077cea75ca.gradio.live\n",
            "\n",
            "This share link expires in 1 week. For free permanent hosting and GPU upgrades, run `gradio deploy` from the terminal in the working directory to deploy to Hugging Face Spaces (https://huggingface.co/spaces)\n"
          ]
        },
        {
          "output_type": "display_data",
          "data": {
            "text/plain": [
              "<IPython.core.display.HTML object>"
            ],
            "text/html": [
              "<div><iframe src=\"https://3ece80d0077cea75ca.gradio.live\" width=\"100%\" height=\"500\" allow=\"autoplay; camera; microphone; clipboard-read; clipboard-write;\" frameborder=\"0\" allowfullscreen></iframe></div>"
            ]
          },
          "metadata": {}
        },
        {
          "output_type": "execute_result",
          "data": {
            "text/plain": []
          },
          "metadata": {},
          "execution_count": 7
        }
      ]
    }
  ]
}